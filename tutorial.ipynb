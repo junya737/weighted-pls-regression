{
 "cells": [
  {
   "cell_type": "code",
   "execution_count": 2,
   "metadata": {},
   "outputs": [],
   "source": [
    "from sklearn.cross_decomposition import PLSRegression\n",
    "from sklearn.metrics import mean_squared_error\n",
    "import numpy as np\n",
    "from importlib import reload\n",
    "from weighted_pls import weighted_pls"
   ]
  },
  {
   "cell_type": "code",
   "execution_count": 3,
   "metadata": {},
   "outputs": [
    {
     "name": "stdout",
     "output_type": "stream",
     "text": [
      "PLS MSE: 0.00310952041790467\n",
      "WPLS (w=1)  MSE: 0.003109520417904671\n",
      "Repeated PLS MSE: 0.0032895132103785947\n",
      "WPLS MSE: 0.003289513210378584\n",
      "PLS weights: [-0.19828048 -0.13498799 -0.12780189 -0.10066264  0.05942422  0.48921255\n",
      "  0.48929136  0.50946201  0.67206504  0.8500045 ]\n",
      "WPLS (w=1) weights: [-0.19828048 -0.13498799 -0.12780189 -0.10066264  0.05942422  0.48921255\n",
      "  0.48929136  0.50946201  0.67206504  0.8500045 ]\n",
      "Repeated PLS weights: [-0.53090312 -0.1922086  -0.06870831 -0.02859688 -0.0039046   0.14949663\n",
      "  0.46006727  0.46896942  0.70247668  0.85336214]\n",
      "WPLS weights: [-0.53090312 -0.1922086  -0.06870831 -0.02859688 -0.0039046   0.14949663\n",
      "  0.46006727  0.46896942  0.70247668  0.85336214]\n",
      "PLS coef: [ 2.91673758e+00  2.04251401e+00  1.78646685e-03  7.68234000e-02\n",
      " -1.40962257e-01]\n",
      "WPLS (w=1) coef: [ 2.91673758e+00  2.04251401e+00  1.78646685e-03  7.68234000e-02\n",
      " -1.40962257e-01]\n",
      "Repeated PLS coef: [ 2.92722639  2.03307673 -0.06551775  0.0650725  -0.15295548]\n",
      "WPLS coef: [ 2.92722639  2.03307673 -0.06551775  0.0650725  -0.15295548]\n",
      "PLS intercept: [2.61712674]\n",
      "WPLS (w=1) intercept: [2.61712674]\n",
      "Repeated PLS intercept: [2.57965882]\n",
      "WPLS intercept: [2.57965882]\n"
     ]
    }
   ],
   "source": [
    "# データ生成\n",
    "np.random.seed(42)\n",
    "N = 100\n",
    "X = np.random.rand(N, 5)\n",
    "Y = 3 * X[:, 0:1] + 2 * X[:, 1:2] + np.random.rand(N, 1) * 0.1\n",
    "weights = np.random.randint(1, 5, size=N)  # 重みを整数にすることで繰り返し数として利用可能\n",
    "\n",
    "# データを重みに応じて複製\n",
    "X_repeated = np.repeat(X, weights, axis=0)\n",
    "Y_repeated = np.repeat(Y, weights, axis=0)\n",
    "\n",
    "\n",
    "# 重みなしPLS\n",
    "pls = PLSRegression(n_components=2)\n",
    "pls.fit(X, Y)\n",
    "Y_pred = pls.predict(X)\n",
    "\n",
    "# weight=1のWPLS\n",
    "wpls_1 = weighted_pls.WeightedPLSRegression(n_components=2)\n",
    "wpls_1.fit(X, Y, sample_weight=np.ones(N))\n",
    "Y_pred_wpls_1 = wpls_1.predict(X)\n",
    "\n",
    "# データ複製PLSで学習\n",
    "pls_repeated = PLSRegression(n_components=2)\n",
    "pls_repeated.fit(X_repeated, Y_repeated)\n",
    "Y_pred_repeated = pls_repeated.predict(X)\n",
    "\n",
    "# WeightedPLSで学習\n",
    "wpls = weighted_pls.WeightedPLSRegression(n_components=2)\n",
    "wpls.fit(X, Y, sample_weight=weights)\n",
    "Y_pred_wpls = wpls.predict(X)\n",
    "\n",
    "\n",
    "# 結果比較\n",
    "print(\"PLS MSE:\", mean_squared_error(Y, Y_pred))\n",
    "print(\"WPLS (w=1)  MSE:\", mean_squared_error(Y, Y_pred_wpls_1))\n",
    "print(\"Repeated PLS MSE:\", mean_squared_error(Y, Y_pred_repeated))\n",
    "print(\"WPLS MSE:\", mean_squared_error(Y, Y_pred_wpls))\n",
    "\n",
    "# 比較\n",
    "print(\"PLS weights:\", np.unique(pls.x_weights_))\n",
    "print(\"WPLS (w=1) weights:\", np.unique(wpls_1.x_weights_))\n",
    "print(\"Repeated PLS weights:\", np.unique(pls_repeated.x_weights_))\n",
    "print(\"WPLS weights:\", np.unique(wpls.x_weights_))\n",
    "\n",
    "# 係数\n",
    "print(\"PLS coef:\", pls.coef_.flatten())\n",
    "print(\"WPLS (w=1) coef:\", wpls_1.coef_.flatten())\n",
    "print(\"Repeated PLS coef:\", pls_repeated.coef_.flatten())\n",
    "print(\"WPLS coef:\", wpls.coef_.flatten())\n",
    "\n",
    "# 切片\n",
    "print(\"PLS intercept:\", pls.intercept_)\n",
    "print(\"WPLS (w=1) intercept:\", wpls_1.intercept_)\n",
    "print(\"Repeated PLS intercept:\", pls_repeated.intercept_)\n",
    "print(\"WPLS intercept:\", wpls.intercept_)"
   ]
  },
  {
   "cell_type": "code",
   "execution_count": null,
   "metadata": {},
   "outputs": [],
   "source": []
  }
 ],
 "metadata": {
  "kernelspec": {
   "display_name": "junya",
   "language": "python",
   "name": "python3"
  },
  "language_info": {
   "codemirror_mode": {
    "name": "ipython",
    "version": 3
   },
   "file_extension": ".py",
   "mimetype": "text/x-python",
   "name": "python",
   "nbconvert_exporter": "python",
   "pygments_lexer": "ipython3",
   "version": "3.10.14"
  }
 },
 "nbformat": 4,
 "nbformat_minor": 2
}
