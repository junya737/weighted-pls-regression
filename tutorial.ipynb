{
 "cells": [
  {
   "cell_type": "markdown",
   "metadata": {},
   "source": [
    "# Weighted Partial Least Squares Regression (WPLS)"
   ]
  },
  {
   "cell_type": "code",
   "execution_count": 14,
   "metadata": {},
   "outputs": [],
   "source": [
    "from sklearn.cross_decomposition import PLSRegression\n",
    "from sklearn.metrics import mean_squared_error\n",
    "import numpy as np\n",
    "from weighted_pls import weighted_pls"
   ]
  },
  {
   "cell_type": "markdown",
   "metadata": {},
   "source": [
    "## How to use the WPLS"
   ]
  },
  {
   "cell_type": "code",
   "execution_count": 15,
   "metadata": {},
   "outputs": [
    {
     "name": "stdout",
     "output_type": "stream",
     "text": [
      "WPLS MSE: 0.003289513210378584\n"
     ]
    }
   ],
   "source": [
    "# Generate data\n",
    "np.random.seed(42)\n",
    "N = 100\n",
    "X = np.random.rand(N, 5)\n",
    "Y = 3 * X[:, 0:1] + 2 * X[:, 1:2] + np.random.rand(N, 1) * 0.1\n",
    "weights = np.random.randint(1, 5, size=N)  \n",
    "\n",
    "# Fit and predict with WPLS\n",
    "wpls = weighted_pls.WeightedPLSRegression(n_components=2)\n",
    "wpls.fit(X, Y, sample_weight=weights)\n",
    "Y_pred_wpls = wpls.predict(X)\n",
    "\n",
    "print(\"WPLS MSE:\", mean_squared_error(Y, Y_pred_wpls))"
   ]
  },
  {
   "cell_type": "markdown",
   "metadata": {},
   "source": [
    "## Comparison with other implementations\n",
    "\n",
    "The results (MSE, coefficient, and intercept) of PLS and WPLS (w=1), as well as WPLS and Repeated PLS, are expected to match.\n",
    "\n",
    "If the results do not match, please report the issue on the repository's page."
   ]
  },
  {
   "cell_type": "code",
   "execution_count": 16,
   "metadata": {},
   "outputs": [],
   "source": [
    "# Standard PLS (no weights) by scikit-learn\n",
    "pls = PLSRegression(n_components=2)\n",
    "pls.fit(X, Y)\n",
    "Y_pred = pls.predict(X)\n",
    "\n",
    "# WPLS with all weights set to 1 (should be the same as standard PLS)\n",
    "wpls_1 = weighted_pls.WeightedPLSRegression(n_components=2)\n",
    "wpls_1.fit(X, Y, sample_weight=np.ones(N))\n",
    "Y_pred_wpls_1 = wpls_1.predict(X)\n",
    "\n",
    "# PLS on repeated data based on weights (should be the same as WPLS)\n",
    "X_repeated = np.repeat(X, weights, axis=0)\n",
    "Y_repeated = np.repeat(Y, weights, axis=0)\n",
    "pls_repeated = PLSRegression(n_components=2)\n",
    "pls_repeated.fit(X_repeated, Y_repeated)\n",
    "Y_pred_repeated = pls_repeated.predict(X)\n"
   ]
  },
  {
   "cell_type": "code",
   "execution_count": 17,
   "metadata": {},
   "outputs": [
    {
     "name": "stdout",
     "output_type": "stream",
     "text": [
      "MSE Comparison:\n",
      "PLS MSE: 0.003110\n",
      "WPLS (w=1) MSE: 0.003110\n",
      "Repeated PLS MSE: 0.003290\n",
      "WPLS MSE: 0.003290\n"
     ]
    }
   ],
   "source": [
    "print(\"MSE Comparison:\")\n",
    "print(f\"PLS MSE: {mean_squared_error(Y, Y_pred):.6f}\")\n",
    "print(f\"WPLS (w=1) MSE: {mean_squared_error(Y, Y_pred_wpls_1):.6f}\")\n",
    "print(f\"Repeated PLS MSE: {mean_squared_error(Y, Y_pred_repeated):.6f}\")\n",
    "print(f\"WPLS MSE: {mean_squared_error(Y, Y_pred_wpls):.6f}\")"
   ]
  },
  {
   "cell_type": "code",
   "execution_count": 18,
   "metadata": {},
   "outputs": [
    {
     "name": "stdout",
     "output_type": "stream",
     "text": [
      "\n",
      "Coefficient Comparison:\n",
      "PLS coef:            [ 2.916738e+00  2.042514e+00  1.786000e-03  7.682300e-02 -1.409620e-01]\n",
      "WPLS (w=1) coef:     [ 2.916738e+00  2.042514e+00  1.786000e-03  7.682300e-02 -1.409620e-01]\n",
      "Repeated PLS coef:   [ 2.927226  2.033077 -0.065518  0.065072 -0.152955]\n",
      "WPLS coef:           [ 2.927226  2.033077 -0.065518  0.065072 -0.152955]\n"
     ]
    }
   ],
   "source": [
    "print(\"\\nCoefficient Comparison:\")\n",
    "print(\"PLS coef:           \", np.round(pls.coef_.flatten(), 6))\n",
    "print(\"WPLS (w=1) coef:    \", np.round(wpls_1.coef_.flatten(), 6))\n",
    "print(\"Repeated PLS coef:  \", np.round(pls_repeated.coef_.flatten(), 6))\n",
    "print(\"WPLS coef:          \", np.round(wpls.coef_.flatten(), 6))"
   ]
  },
  {
   "cell_type": "code",
   "execution_count": 19,
   "metadata": {},
   "outputs": [
    {
     "name": "stdout",
     "output_type": "stream",
     "text": [
      "\n",
      "Intercept Comparison:\n",
      "PLS intercept: 2.617127\n",
      "WPLS (w=1) intercept: 2.617127\n",
      "Repeated PLS intercept: 2.579659\n",
      "WPLS intercept: 2.579659\n"
     ]
    }
   ],
   "source": [
    "print(\"\\nIntercept Comparison:\")\n",
    "print(f\"PLS intercept: {pls.intercept_[0]:.6f}\")\n",
    "print(f\"WPLS (w=1) intercept: {wpls_1.intercept_[0]:.6f}\")\n",
    "print(f\"Repeated PLS intercept: {pls_repeated.intercept_[0]:.6f}\")\n",
    "print(f\"WPLS intercept: {wpls.intercept_[0]:.6f}\")"
   ]
  },
  {
   "cell_type": "code",
   "execution_count": null,
   "metadata": {},
   "outputs": [],
   "source": []
  }
 ],
 "metadata": {
  "kernelspec": {
   "display_name": "junya",
   "language": "python",
   "name": "python3"
  },
  "language_info": {
   "codemirror_mode": {
    "name": "ipython",
    "version": 3
   },
   "file_extension": ".py",
   "mimetype": "text/x-python",
   "name": "python",
   "nbconvert_exporter": "python",
   "pygments_lexer": "ipython3",
   "version": "3.10.14"
  }
 },
 "nbformat": 4,
 "nbformat_minor": 2
}
